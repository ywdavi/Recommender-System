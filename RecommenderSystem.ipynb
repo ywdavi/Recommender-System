{
 "cells": [
  {
   "cell_type": "markdown",
   "id": "3e932ed4",
   "metadata": {},
   "source": [
    "### Import"
   ]
  },
  {
   "cell_type": "code",
   "execution_count": 2,
   "id": "d45ed9e0",
   "metadata": {},
   "outputs": [],
   "source": [
    "import pandas as pd\n",
    "import numpy as np\n",
    "from numpy.linalg import norm\n",
    "import matplotlib.pyplot as plt\n",
    "import seaborn as sns\n",
    "\n",
    "import json\n",
    "import multiprocessing\n",
    "import surprise\n",
    "import gzip\n",
    "\n",
    "from sklearn.metrics import mean_squared_error\n",
    "from sklearn.model_selection import train_test_split as sk_train_test_split\n",
    "from sklearn.neighbors import NearestNeighbors, KNeighborsRegressor\n",
    "from nltk.cluster import KMeansClusterer, cosine_distance\n",
    "from sklearn.cluster import KMeans\n",
    "from sklearn import metrics\n",
    "from sklearn.metrics import silhouette_score\n",
    "\n",
    "from scipy import sparse\n",
    "from surprise import accuracy, Dataset, KNNBasic, Reader, SVD\n",
    "from surprise.model_selection import cross_validate, train_test_split, GridSearchCV\n",
    "\n",
    "import datetime\n",
    "import random"
   ]
  },
  {
   "cell_type": "markdown",
   "id": "b4f1acc9",
   "metadata": {},
   "source": [
    "## 1.0 Apertura beeradvocate "
   ]
  },
  {
   "cell_type": "code",
   "execution_count": 42,
   "id": "a5d33843",
   "metadata": {},
   "outputs": [],
   "source": [
    "# Conversione da gz a csv\n",
    "\n",
    "def parse(path):\n",
    "    g =gzip.open(path, 'rb')\n",
    "    for l in g:\n",
    "        yield eval(l)\n",
    "def getDF(path):\n",
    "    i=0\n",
    "    df={}\n",
    "    for d in parse(path):\n",
    "        df[i]=d\n",
    "        i+=1\n",
    "    return pd.DataFrame.from_dict(df, orient='index')\n",
    "\n",
    "df = getDF('/Users/dvettore/Desktop/beeradvocate.json.gz')\n",
    "\n",
    "df.to_csv('/Users/dvettore/Desktop/beeradvocate.csv', index=False)"
   ]
  },
  {
   "cell_type": "code",
   "execution_count": 4,
   "id": "2974cb02",
   "metadata": {},
   "outputs": [],
   "source": [
    "# Si può ora aprire il file csv \n",
    "\n",
    "df = pd.read_csv('/Users/dvettore/Desktop/beeradvocate.csv',sep=',', low_memory = False)"
   ]
  },
  {
   "cell_type": "code",
   "execution_count": 7,
   "id": "5f1cce86",
   "metadata": {},
   "outputs": [],
   "source": [
    "# Rimozione valori nulli, rating duplicati, rating pari a 0, conversione rating a int8\n",
    "\n",
    "df = df.dropna(subset=['beer/name','review/overall','review/profileName','beer/style' ], how='all')\n",
    "df = df.drop_duplicates(['review/profileName','beer/name'], keep= 'last')\n",
    "df = df[df['review/overall'] != 0]\n",
    "df['review/overall'] = df['review/overall'].astype('int8')"
   ]
  },
  {
   "cell_type": "markdown",
   "id": "a0cba3fd",
   "metadata": {},
   "source": [
    "## 1.1 Analisi esplorativa e riduzione dataset"
   ]
  },
  {
   "cell_type": "code",
   "execution_count": 9,
   "id": "4f8d3da1",
   "metadata": {},
   "outputs": [
    {
     "name": "stdout",
     "output_type": "stream",
     "text": [
      "review/overall\n",
      "1     23704\n",
      "2     95638\n",
      "3    460991\n",
      "4    891872\n",
      "5     89520\n",
      "Name: review/overall, dtype: int64\n",
      "beer/name              object\n",
      "beer/beerId             int64\n",
      "beer/brewerId           int64\n",
      "beer/ABV              float64\n",
      "beer/style             object\n",
      "review/appearance     float64\n",
      "review/aroma          float64\n",
      "review/palate         float64\n",
      "review/taste          float64\n",
      "review/overall           int8\n",
      "review/time             int64\n",
      "review/profileName     object\n",
      "review/text            object\n",
      "dtype: object\n",
      "(1561725, 13)\n",
      "                             beer/name  beer/beerId  beer/brewerId  beer/ABV  \\\n",
      "1436146  Old Chub - Scottish Style Ale        14712           2681       8.0   \n",
      "1287341                      Budweiser           65             29       5.0   \n",
      "1036602              Petrus Winterbier         2481            718       6.5   \n",
      "219057             Yeti Imperial Stout        12013            158       9.5   \n",
      "83137    Sierra Nevada Celebration Ale         1904            140       6.8   \n",
      "\n",
      "                     beer/style  review/appearance  review/aroma  \\\n",
      "1436146  Scotch Ale / Wee Heavy                3.0           3.5   \n",
      "1287341  American Adjunct Lager                3.0           2.0   \n",
      "1036602        Belgian Dark Ale                4.0           4.5   \n",
      "219057   Russian Imperial Stout                4.0           4.0   \n",
      "83137              American IPA                4.0           4.0   \n",
      "\n",
      "         review/palate  review/taste  review/overall  review/time  \\\n",
      "1436146            4.0           3.5               3   1316735226   \n",
      "1287341            2.5           1.0               1   1094348553   \n",
      "1036602            3.0           3.0               3   1038037340   \n",
      "219057             4.5           4.0               4   1104598115   \n",
      "83137              4.0           3.5               4   1151843256   \n",
      "\n",
      "        review/profileName                                        review/text  \n",
      "1436146         Heatwave33  Poured from a 12oz can to a Dogfish Head snift...  \n",
      "1287341       wailingwench  Granted, there is something there that one can...  \n",
      "1036602         purplehops  This beer poured a golden yellow-orange with a...  \n",
      "219057             Pegasus  Appearance: A deep brown head that borders on ...  \n",
      "83137             kimcgolf  Poured to a fairly hazy reddish orange color. ...  \n"
     ]
    }
   ],
   "source": [
    "print(df.groupby('review/overall')['review/overall'].count())\n",
    "print(df.dtypes)\n",
    "print(df.shape)\n",
    "print(df.sample(5))"
   ]
  },
  {
   "cell_type": "code",
   "execution_count": 317,
   "id": "f2ec6cea",
   "metadata": {},
   "outputs": [
    {
     "name": "stdout",
     "output_type": "stream",
     "text": [
      "                                  count  mean rating\n",
      "beer/style                                          \n",
      "American Wild Ale                 17622     4.091335\n",
      "Gueuze                             5982     4.085172\n",
      "Quadrupel (Quad)                  17980     4.071385\n",
      "Lambic - Unblended                 1109     4.048693\n",
      "American Double / Imperial Stout  49838     4.027860\n",
      "Russian Imperial Stout            52972     4.022191\n",
      "Weizenbock                         9336     4.006427\n",
      "American Double / Imperial IPA    84462     3.994672\n",
      "Flanders Red Ale                   6606     3.991901\n",
      "Keller Bier / Zwickel Bier         2555     3.982387\n",
      "                        count  mean rating\n",
      "beer/style                                \n",
      "Kvass                     295     3.355932\n",
      "Euro Pale Lager         17783     3.202159\n",
      "Japanese Rice Lager      1535     3.121824\n",
      "Chile Beer               2281     3.113108\n",
      "American Adjunct Lager  30293     2.998548\n",
      "Happoshu                  241     2.914938\n",
      "Euro Strong Lager        2713     2.861039\n",
      "Light Lager             14104     2.697178\n",
      "American Malt Liquor     3893     2.677883\n",
      "Low Alcohol Beer         1196     2.576923\n"
     ]
    },
    {
     "data": {
      "image/png": "[encoded data removed]",
      "text/plain": [
       "<Figure size 360x360 with 1 Axes>"
      ]
     },
     "metadata": {
      "needs_background": "light"
     },
     "output_type": "display_data"
    }
   ],
   "source": [
    "# 1. Voto medio rispetto al beer style \n",
    "\n",
    "count_df = df.groupby('beer/style')['review/overall'].count().sort_values(ascending=False)\n",
    "mean_df = df.groupby('beer/style')['review/overall'].mean()\n",
    "\n",
    "merged_df = pd.merge(count_df, mean_df, left_index=True, right_index=True)\n",
    "merged_df.columns = ['count','mean rating']\n",
    "merged_df_sorted = merged_df.sort_values(by='mean rating', ascending=False)\n",
    "\n",
    "print(merged_df_sorted.head(10))\n",
    "print(merged_df_sorted.tail(10))\n",
    "\n",
    "plt.figure(figsize=(5, 5))\n",
    "merged_df_sorted['mean rating'].tail(10).plot(kind='bar', width=0.8, color='sandybrown', align='edge')\n",
    "plt.ylim(0,5)\n",
    "plt.xlabel('Beer style')\n",
    "plt.ylabel('Avg Overall Rating')\n",
    "plt.title('Average rating of lowest rated styles')\n",
    "plt.xticks(rotation=90)\n",
    "plt.show()"
   ]
  },
  {
   "cell_type": "code",
   "execution_count": 10,
   "id": "c45f3853",
   "metadata": {},
   "outputs": [
    {
     "data": {
      "image/png": "[encoded data removed]",
      "text/plain": [
       "<Figure size 720x576 with 2 Axes>"
      ]
     },
     "metadata": {
      "needs_background": "light"
     },
     "output_type": "display_data"
    }
   ],
   "source": [
    "# 2. Correlazione tra diverse tipologie di ratings\n",
    "\n",
    "correlation_matrix = df[['review/appearance', 'review/aroma', 'review/palate', 'review/taste', 'review/overall']].corr()\n",
    "\n",
    "plt.figure(figsize=(10, 8))\n",
    "sns.heatmap(correlation_matrix, annot=True, cmap='gist_heat_r')\n",
    "plt.title('Correlations between the differents types of rating')\n",
    "plt.show()"
   ]
  },
  {
   "cell_type": "code",
   "execution_count": 329,
   "id": "4c7c9f46",
   "metadata": {},
   "outputs": [
    {
     "data": {
      "image/png": "[encoded data removed]",
      "text/plain": [
       "<Figure size 720x576 with 1 Axes>"
      ]
     },
     "metadata": {
      "needs_background": "light"
     },
     "output_type": "display_data"
    }
   ],
   "source": [
    "# 3. Overall rating rispetto al volume alcolico\n",
    "\n",
    "df['ABVstandardized'] = round(df['beer/ABV'],1)\n",
    "df['ABVstandardized'].loc[df['ABVstandardized']>15] = 15\n",
    "\n",
    "mean_rating_by_abv = df.groupby('ABVstandardized')['review/overall'].mean()\n",
    "\n",
    "plt.figure(figsize=(10, 8))\n",
    "plt.plot(mean_rating_by_abv.index, mean_rating_by_abv.values, color='sandybrown')\n",
    "plt.xlabel('ABV (Alcohol By Volume)')\n",
    "plt.ylabel('Avg Overall Rating')\n",
    "plt.title('Average rating change with respect to ABV increase')\n",
    "plt.show()"
   ]
  },
  {
   "cell_type": "code",
   "execution_count": 11,
   "id": "ece022bd",
   "metadata": {},
   "outputs": [
    {
     "name": "stdout",
     "output_type": "stream",
     "text": [
      "BuckeyeNation\n"
     ]
    },
    {
     "data": {
      "text/html": [
       "<div>\n",
       "<style scoped>\n",
       "    .dataframe tbody tr th:only-of-type {\n",
       "        vertical-align: middle;\n",
       "    }\n",
       "\n",
       "    .dataframe tbody tr th {\n",
       "        vertical-align: top;\n",
       "    }\n",
       "\n",
       "    .dataframe thead th {\n",
       "        text-align: right;\n",
       "    }\n",
       "</style>\n",
       "<table border=\"1\" class=\"dataframe\">\n",
       "  <thead>\n",
       "    <tr style=\"text-align: right;\">\n",
       "      <th></th>\n",
       "      <th>item_name</th>\n",
       "      <th>user_name</th>\n",
       "      <th>rating</th>\n",
       "    </tr>\n",
       "  </thead>\n",
       "  <tbody>\n",
       "    <tr>\n",
       "      <th>563371</th>\n",
       "      <td>Two Jokers Double-Wit</td>\n",
       "      <td>BuckeyeNation</td>\n",
       "      <td>4</td>\n",
       "    </tr>\n",
       "    <tr>\n",
       "      <th>819156</th>\n",
       "      <td>Saranac ESB</td>\n",
       "      <td>BuckeyeNation</td>\n",
       "      <td>3</td>\n",
       "    </tr>\n",
       "    <tr>\n",
       "      <th>987296</th>\n",
       "      <td>Grozet Gooseberry &amp; Wheat Ale</td>\n",
       "      <td>BuckeyeNation</td>\n",
       "      <td>4</td>\n",
       "    </tr>\n",
       "    <tr>\n",
       "      <th>858132</th>\n",
       "      <td>Centennial Single Hop IPA</td>\n",
       "      <td>BuckeyeNation</td>\n",
       "      <td>4</td>\n",
       "    </tr>\n",
       "    <tr>\n",
       "      <th>1534755</th>\n",
       "      <td>Cuvée Van De Keizer Blauw (Blue)</td>\n",
       "      <td>BuckeyeNation</td>\n",
       "      <td>4</td>\n",
       "    </tr>\n",
       "  </tbody>\n",
       "</table>\n",
       "</div>"
      ],
      "text/plain": [
       "                                item_name      user_name  rating\n",
       "563371              Two Jokers Double-Wit  BuckeyeNation       4\n",
       "819156                        Saranac ESB  BuckeyeNation       3\n",
       "987296      Grozet Gooseberry & Wheat Ale  BuckeyeNation       4\n",
       "858132          Centennial Single Hop IPA  BuckeyeNation       4\n",
       "1534755  Cuvée Van De Keizer Blauw (Blue)  BuckeyeNation       4"
      ]
     },
     "execution_count": 11,
     "metadata": {},
     "output_type": "execute_result"
    }
   ],
   "source": [
    "# Analisi utente che recensisce di più (andrebbe eseguito dopo aver creato smallDf ma per ordine l'ho messo insieme all'analisi esplorativa)\n",
    "\n",
    "print(smallDf.groupby(['user_name']).count()['rating'].idxmax())\n",
    "smallDf.loc[smallDf['user_name']=='BuckeyeNation'].sample(5)"
   ]
  },
  {
   "cell_type": "code",
   "execution_count": 363,
   "id": "bcd62b7e",
   "metadata": {},
   "outputs": [],
   "source": [
    "count_u = df.loc[df['review/profileName']=='BuckeyeNation'].groupby('beer/style')['review/overall'].count()\n",
    "mean_u = df.loc[df['review/profileName']=='BuckeyeNation'].groupby('beer/style')['review/overall'].mean()\n",
    "\n",
    "merged_df = pd.merge(count_u, mean_u, left_index=True, right_index=True)\n",
    "merged_df.columns = ['count','mean rating']\n",
    "merged_df_sorted = merged_df.sort_values(by='mean rating', ascending=False)\n",
    "#merged_df_sorted"
   ]
  },
  {
   "cell_type": "code",
   "execution_count": 361,
   "id": "a551e6e8",
   "metadata": {},
   "outputs": [
    {
     "data": {
      "image/png": "[encoded data removed]",
      "text/plain": [
       "<Figure size 720x576 with 1 Axes>"
      ]
     },
     "metadata": {
      "needs_background": "light"
     },
     "output_type": "display_data"
    }
   ],
   "source": [
    "def convert_timestamp(timestamp):\n",
    "    date = datetime.datetime.fromtimestamp(timestamp).strftime('%d/%m/%y')\n",
    "    return date\n",
    "\n",
    "df['date'] = df['review/time'].apply(convert_timestamp)\n",
    "\n",
    "df['date'] = pd.to_datetime(df['date'])\n",
    "df['review/overall'] = df['review/overall'].astype(float)\n",
    "\n",
    "mean_rating_by_time = df.loc[df['review/profileName'] == 'BuckeyeNation'].set_index('date').resample('M')['review/overall'].mean()\n",
    "\n",
    "plt.figure(figsize=(10, 8))\n",
    "plt.plot(mean_rating_by_time.index, mean_rating_by_time.values, color='sandybrown')\n",
    "plt.xlabel('Date')\n",
    "plt.ylabel('Mean Rating')\n",
    "plt.title('Mean Rating Over Time')\n",
    "plt.show()"
   ]
  },
  {
   "cell_type": "code",
   "execution_count": null,
   "id": "d71d673a",
   "metadata": {},
   "outputs": [],
   "source": [
    "# Eliminazione colonne\n",
    "\n",
    "df = df[['beer/name','review/profileName','review/overall']]\n",
    "df = df.rename(columns={'beer/name':\"item_name\",'review/profileName':\"user_name\",'review/overall':\"rating\"})"
   ]
  },
  {
   "cell_type": "code",
   "execution_count": 12,
   "id": "4b328de6",
   "metadata": {},
   "outputs": [
    {
     "name": "stdout",
     "output_type": "stream",
     "text": [
      "shape matrice:  33387 - 56856 | size matrice:  1898251272 | ratings presenti:  1561398 | percentuale:  0.082 %\n"
     ]
    }
   ],
   "source": [
    "# Osservazione matrice di ratings completa\n",
    "\n",
    "uniqueUs = df['user_name'].unique()\n",
    "uniqueIt = df['item_name'].unique()\n",
    "size = len(uniqueUs)*len(uniqueIt)\n",
    "print(\"shape matrice: \",len(uniqueUs),'-',len(uniqueIt), \"| size matrice: \", len(uniqueUs)*len(uniqueIt), \"| ratings presenti: \", len(df), \"| percentuale: \" , round(((len(df)/(len(uniqueUs)*len(uniqueIt)))*100),3),\"%\")"
   ]
  },
  {
   "cell_type": "code",
   "execution_count": 319,
   "id": "95adac0c",
   "metadata": {},
   "outputs": [
    {
     "data": {
      "text/plain": [
       "99.918"
      ]
     },
     "execution_count": 319,
     "metadata": {},
     "output_type": "execute_result"
    }
   ],
   "source": [
    "100-0.082"
   ]
  },
  {
   "cell_type": "code",
   "execution_count": 18,
   "id": "81c48fa2",
   "metadata": {},
   "outputs": [
    {
     "name": "stdout",
     "output_type": "stream",
     "text": [
      "(1561398, 3)  -->  (1000360, 3)\n"
     ]
    }
   ],
   "source": [
    "# Riduzione matrice di ratings\n",
    "\n",
    "topIt = df.item_name.value_counts().head(4000).index         #riduzione items    \n",
    "smallDf = df[df.item_name.isin(topIt)]\n",
    "\n",
    "topUs = smallDf.user_name.value_counts().head(4000).index    #riduzione users  \n",
    "smallDf = smallDf[smallDf.user_name.isin(topUs)]\n",
    "\n",
    "print(df.shape, \" --> \" , smallDf.shape)"
   ]
  },
  {
   "cell_type": "code",
   "execution_count": 20,
   "id": "aa527d37",
   "metadata": {},
   "outputs": [
    {
     "name": "stdout",
     "output_type": "stream",
     "text": [
      "shape matrice:  4000 - 4000 | size matrice:  16000000 | ratings presenti:  1000360 | percentuale:  6.252 %\n"
     ]
    }
   ],
   "source": [
    "# Osservazione matrice di ratings ridotta \n",
    "\n",
    "uniqueUs = smallDf['user_name'].unique()\n",
    "uniqueIt = smallDf['item_name'].unique()\n",
    "print(\"shape matrice: \",len(uniqueUs),'-',len(uniqueIt), \"| size matrice: \", len(uniqueUs)*len(uniqueIt), \"| ratings presenti: \", len(smallDf), \"| percentuale: \" , round(((len(smallDf)/(len(uniqueUs)*len(uniqueIt)))*100),3),\"%\")\n",
    "\n",
    "#print(smallDf.groupby('user_name')['user_name'].count().sort_values(ascending=False))\n",
    "#print(smallDf.groupby('item_name')['item_name'].count().sort_values(ascending=False))"
   ]
  },
  {
   "cell_type": "code",
   "execution_count": 21,
   "id": "71664187",
   "metadata": {},
   "outputs": [
    {
     "data": {
      "image/png": "[encoded data removed]",
      "text/plain": [
       "<Figure size 720x360 with 2 Axes>"
      ]
     },
     "metadata": {
      "needs_background": "light"
     },
     "output_type": "display_data"
    }
   ],
   "source": [
    "# 1. Variazione frequenza dei rating\n",
    "\n",
    "fig, axs = plt.subplots(1, 2, figsize=(10, 5))\n",
    "\n",
    "axs[0].hist(df['rating'], bins = 5, color ='sandybrown')\n",
    "axs[0].set_title('Distribution of ratings in the complete matrix')\n",
    "axs[0].set_ylabel('Frequency')\n",
    "axs[0].set_xlabel('Rating')\n",
    "\n",
    "axs[1].hist(smallDf['rating'], bins = 5, color ='sandybrown')\n",
    "axs[1].set_title('Distribution of ratings in the reduced matrix')\n",
    "axs[1].set_xlabel('Rating')\n",
    "\n",
    "plt.show()"
   ]
  },
  {
   "cell_type": "code",
   "execution_count": 38,
   "id": "835cdd58",
   "metadata": {},
   "outputs": [
    {
     "data": {
      "text/html": [
       "<div>\n",
       "<style scoped>\n",
       "    .dataframe tbody tr th:only-of-type {\n",
       "        vertical-align: middle;\n",
       "    }\n",
       "\n",
       "    .dataframe tbody tr th {\n",
       "        vertical-align: top;\n",
       "    }\n",
       "\n",
       "    .dataframe thead th {\n",
       "        text-align: right;\n",
       "    }\n",
       "</style>\n",
       "<table border=\"1\" class=\"dataframe\">\n",
       "  <thead>\n",
       "    <tr style=\"text-align: right;\">\n",
       "      <th></th>\n",
       "      <th>Items ocurrencies in the complete matrix</th>\n",
       "      <th>Items ocurrencies in the reduced matrix</th>\n",
       "    </tr>\n",
       "  </thead>\n",
       "  <tbody>\n",
       "    <tr>\n",
       "      <th>count</th>\n",
       "      <td>56856.000000</td>\n",
       "      <td>4000.00000</td>\n",
       "    </tr>\n",
       "    <tr>\n",
       "      <th>mean</th>\n",
       "      <td>27.462326</td>\n",
       "      <td>250.09000</td>\n",
       "    </tr>\n",
       "    <tr>\n",
       "      <th>std</th>\n",
       "      <td>118.684510</td>\n",
       "      <td>265.81839</td>\n",
       "    </tr>\n",
       "    <tr>\n",
       "      <th>min</th>\n",
       "      <td>1.000000</td>\n",
       "      <td>46.00000</td>\n",
       "    </tr>\n",
       "    <tr>\n",
       "      <th>25%</th>\n",
       "      <td>1.000000</td>\n",
       "      <td>91.00000</td>\n",
       "    </tr>\n",
       "    <tr>\n",
       "      <th>50%</th>\n",
       "      <td>3.000000</td>\n",
       "      <td>151.00000</td>\n",
       "    </tr>\n",
       "    <tr>\n",
       "      <th>75%</th>\n",
       "      <td>9.000000</td>\n",
       "      <td>292.00000</td>\n",
       "    </tr>\n",
       "    <tr>\n",
       "      <th>max</th>\n",
       "      <td>3206.000000</td>\n",
       "      <td>2172.00000</td>\n",
       "    </tr>\n",
       "  </tbody>\n",
       "</table>\n",
       "</div>"
      ],
      "text/plain": [
       "       Items ocurrencies in the complete matrix  \\\n",
       "count                              56856.000000   \n",
       "mean                                  27.462326   \n",
       "std                                  118.684510   \n",
       "min                                    1.000000   \n",
       "25%                                    1.000000   \n",
       "50%                                    3.000000   \n",
       "75%                                    9.000000   \n",
       "max                                 3206.000000   \n",
       "\n",
       "       Items ocurrencies in the reduced matrix  \n",
       "count                               4000.00000  \n",
       "mean                                 250.09000  \n",
       "std                                  265.81839  \n",
       "min                                   46.00000  \n",
       "25%                                   91.00000  \n",
       "50%                                  151.00000  \n",
       "75%                                  292.00000  \n",
       "max                                 2172.00000  "
      ]
     },
     "execution_count": 38,
     "metadata": {},
     "output_type": "execute_result"
    }
   ],
   "source": [
    "# 2. Variazione occorrenze items\n",
    "\n",
    "describe = pd.concat([df.groupby(['item_name']).count()['rating'].describe(), \n",
    "                      smallDf.groupby(['item_name']).count()['rating'].describe()], axis=1)\n",
    "describe.columns = ['Items ocurrencies in the complete matrix', 'Items ocurrencies in the reduced matrix']\n",
    "describe"
   ]
  },
  {
   "cell_type": "code",
   "execution_count": 5,
   "id": "354d6670",
   "metadata": {},
   "outputs": [
    {
     "data": {
      "text/plain": [
       "'Tap Room No. 21 Amber Ale'"
      ]
     },
     "execution_count": 5,
     "metadata": {},
     "output_type": "execute_result"
    }
   ],
   "source": [
    "smallDf.groupby(['item_name']).count()['rating'].idxmin()"
   ]
  },
  {
   "cell_type": "code",
   "execution_count": 142,
   "id": "725efc93",
   "metadata": {},
   "outputs": [
    {
     "data": {
      "text/plain": [
       "'90 Minute IPA'"
      ]
     },
     "execution_count": 142,
     "metadata": {},
     "output_type": "execute_result"
    }
   ],
   "source": [
    "smallDf.groupby(['item_name']).count()['rating'].idxmax()"
   ]
  },
  {
   "cell_type": "code",
   "execution_count": 39,
   "id": "60f07716",
   "metadata": {},
   "outputs": [
    {
     "data": {
      "text/html": [
       "<div>\n",
       "<style scoped>\n",
       "    .dataframe tbody tr th:only-of-type {\n",
       "        vertical-align: middle;\n",
       "    }\n",
       "\n",
       "    .dataframe tbody tr th {\n",
       "        vertical-align: top;\n",
       "    }\n",
       "\n",
       "    .dataframe thead th {\n",
       "        text-align: right;\n",
       "    }\n",
       "</style>\n",
       "<table border=\"1\" class=\"dataframe\">\n",
       "  <thead>\n",
       "    <tr style=\"text-align: right;\">\n",
       "      <th></th>\n",
       "      <th>Users ocurrencies in the complete matrix</th>\n",
       "      <th>Users ocurrencies in the reduced matrix</th>\n",
       "    </tr>\n",
       "  </thead>\n",
       "  <tbody>\n",
       "    <tr>\n",
       "      <th>count</th>\n",
       "      <td>33387.000000</td>\n",
       "      <td>4000.000000</td>\n",
       "    </tr>\n",
       "    <tr>\n",
       "      <th>mean</th>\n",
       "      <td>46.766646</td>\n",
       "      <td>250.090000</td>\n",
       "    </tr>\n",
       "    <tr>\n",
       "      <th>std</th>\n",
       "      <td>177.726920</td>\n",
       "      <td>270.174894</td>\n",
       "    </tr>\n",
       "    <tr>\n",
       "      <th>min</th>\n",
       "      <td>1.000000</td>\n",
       "      <td>57.000000</td>\n",
       "    </tr>\n",
       "    <tr>\n",
       "      <th>25%</th>\n",
       "      <td>1.000000</td>\n",
       "      <td>89.000000</td>\n",
       "    </tr>\n",
       "    <tr>\n",
       "      <th>50%</th>\n",
       "      <td>3.000000</td>\n",
       "      <td>150.000000</td>\n",
       "    </tr>\n",
       "    <tr>\n",
       "      <th>75%</th>\n",
       "      <td>16.000000</td>\n",
       "      <td>295.000000</td>\n",
       "    </tr>\n",
       "    <tr>\n",
       "      <th>max</th>\n",
       "      <td>5599.000000</td>\n",
       "      <td>2759.000000</td>\n",
       "    </tr>\n",
       "  </tbody>\n",
       "</table>\n",
       "</div>"
      ],
      "text/plain": [
       "       Users ocurrencies in the complete matrix  \\\n",
       "count                              33387.000000   \n",
       "mean                                  46.766646   \n",
       "std                                  177.726920   \n",
       "min                                    1.000000   \n",
       "25%                                    1.000000   \n",
       "50%                                    3.000000   \n",
       "75%                                   16.000000   \n",
       "max                                 5599.000000   \n",
       "\n",
       "       Users ocurrencies in the reduced matrix  \n",
       "count                              4000.000000  \n",
       "mean                                250.090000  \n",
       "std                                 270.174894  \n",
       "min                                  57.000000  \n",
       "25%                                  89.000000  \n",
       "50%                                 150.000000  \n",
       "75%                                 295.000000  \n",
       "max                                2759.000000  "
      ]
     },
     "execution_count": 39,
     "metadata": {},
     "output_type": "execute_result"
    }
   ],
   "source": [
    "# 3. Variazione occorrenze users\n",
    "\n",
    "describe = pd.concat([df.groupby(['user_name']).count()['rating'].describe(), \n",
    "                      smallDf.groupby(['user_name']).count()['rating'].describe()], axis=1)\n",
    "describe.columns = ['Users ocurrencies in the complete matrix', 'Users ocurrencies in the reduced matrix']\n",
    "describe"
   ]
  },
  {
   "cell_type": "code",
   "execution_count": 591,
   "id": "21388501",
   "metadata": {},
   "outputs": [
    {
     "data": {
      "text/plain": [
       "count    1.000360e+06\n",
       "mean     3.623750e+00\n",
       "std      7.202209e-01\n",
       "min      1.000000e+00\n",
       "25%      3.000000e+00\n",
       "50%      4.000000e+00\n",
       "75%      4.000000e+00\n",
       "max      5.000000e+00\n",
       "Name: rating, dtype: float64"
      ]
     },
     "execution_count": 591,
     "metadata": {},
     "output_type": "execute_result"
    }
   ],
   "source": [
    "smallDf['rating'].describe()"
   ]
  },
  {
   "cell_type": "markdown",
   "id": "335c0952",
   "metadata": {},
   "source": [
    "## 1.2 Ricerca iperparametri ottimali"
   ]
  },
  {
   "cell_type": "code",
   "execution_count": 53,
   "id": "f332069d",
   "metadata": {},
   "outputs": [],
   "source": [
    "# Ricerca iperparametri ottimali algoritmo KNN\n",
    "\n",
    "reader = Reader(rating_scale=(1, 5))"
   ]
  },
  {
   "cell_type": "code",
   "execution_count": null,
   "id": "03626643",
   "metadata": {},
   "outputs": [],
   "source": [
    "gridsetter = Dataset.load_from_df(smallDf.sample(frac=0.2)[['user_name', 'item_name', 'rating']], reader)\n",
    "param_grid = {'k': [120, 130, 140], 'sim_options': {'name': ['cosine', 'pearson'],'user_based': [True, False]}}\n",
    "\n",
    "gs = GridSearchCV(KNNBasic, param_grid, measures=[\"rmse\", \"mse\"], cv=5, n_jobs=-1)\n",
    "gs.fit(gridsetter)"
   ]
  },
  {
   "cell_type": "code",
   "execution_count": 434,
   "id": "5415185d",
   "metadata": {
    "scrolled": true
   },
   "outputs": [
    {
     "name": "stdout",
     "output_type": "stream",
     "text": [
      "Best RMSE = 0.6471\n",
      "Best MSE = 0.4188\n",
      "Best MSE configuration = {'k': 140, 'sim_options': {'name': 'cosine', 'user_based': True}}\n"
     ]
    }
   ],
   "source": [
    "print(f'Best RMSE = {gs.best_score[\"rmse\"]:.4f}')\n",
    "print(f'Best MSE = {gs.best_score[\"mse\"]:.4f}')\n",
    "#print(f'Best RMSE configuration = {gs.best_params[\"rmse\"]}')\n",
    "print(f'Best MSE configuration = {gs.best_params[\"mse\"]}')"
   ]
  },
  {
   "cell_type": "code",
   "execution_count": 500,
   "id": "f9ab8ed8",
   "metadata": {},
   "outputs": [
    {
     "data": {
      "text/html": [
       "<div>\n",
       "<style scoped>\n",
       "    .dataframe tbody tr th:only-of-type {\n",
       "        vertical-align: middle;\n",
       "    }\n",
       "\n",
       "    .dataframe tbody tr th {\n",
       "        vertical-align: top;\n",
       "    }\n",
       "\n",
       "    .dataframe thead th {\n",
       "        text-align: right;\n",
       "    }\n",
       "</style>\n",
       "<table border=\"1\" class=\"dataframe\">\n",
       "  <thead>\n",
       "    <tr style=\"text-align: right;\">\n",
       "      <th></th>\n",
       "      <th>Dead guy Ale</th>\n",
       "      <th>Keystone ice</th>\n",
       "      <th>moon man</th>\n",
       "      <th>winter lager</th>\n",
       "      <th>festive Ale</th>\n",
       "      <th>imperial IPA</th>\n",
       "    </tr>\n",
       "  </thead>\n",
       "  <tbody>\n",
       "    <tr>\n",
       "      <th>chilidog</th>\n",
       "      <td>1.0</td>\n",
       "      <td>0.0</td>\n",
       "      <td>2.0</td>\n",
       "      <td>0.0</td>\n",
       "      <td>5.0</td>\n",
       "      <td>0.0</td>\n",
       "    </tr>\n",
       "    <tr>\n",
       "      <th>drunkman</th>\n",
       "      <td>5.0</td>\n",
       "      <td>2.0</td>\n",
       "      <td>0.0</td>\n",
       "      <td>2.0</td>\n",
       "      <td>2.0</td>\n",
       "      <td>0.0</td>\n",
       "    </tr>\n",
       "  </tbody>\n",
       "</table>\n",
       "</div>"
      ],
      "text/plain": [
       "          Dead guy Ale  Keystone ice  moon man  winter lager  festive Ale  \\\n",
       "chilidog           1.0           0.0       2.0           0.0          5.0   \n",
       "drunkman           5.0           2.0       0.0           2.0          2.0   \n",
       "\n",
       "          imperial IPA  \n",
       "chilidog           0.0  \n",
       "drunkman           0.0  "
      ]
     },
     "execution_count": 500,
     "metadata": {},
     "output_type": "execute_result"
    }
   ],
   "source": [
    "# Dati simulati per esempio distanze vettoriali\n",
    "\n",
    "data = {'Dead guy Ale': [1.0,5],\n",
    "        'Keystone ice': [0.0,2],\n",
    "        'moon man': [2.0,0],\n",
    "        'winter lager': [0.0,2],\n",
    "        'festive Ale': [5.0,2],\n",
    "        'imperial IPA': [0.0,0]}\n",
    "df = pd.DataFrame(data, index=['chilidog', 'drunkman'])\n",
    "df"
   ]
  },
  {
   "cell_type": "markdown",
   "id": "b363fcc9",
   "metadata": {},
   "source": [
    "## 1.3 Applicazione algoritmo e filling della matrice"
   ]
  },
  {
   "cell_type": "code",
   "execution_count": 54,
   "id": "5a256fa4",
   "metadata": {},
   "outputs": [],
   "source": [
    "# Fit algoritmo con iperparametri ottimali\n",
    "\n",
    "algo = KNNBasic(k=gs.best_params[\"rmse\"]['k'], \n",
    "                sim_options=gs.best_params[\"rmse\"]['sim_options'], \n",
    "                verbose=True)\n",
    "\n",
    "trainset = Dataset.load_from_df(smallDf[['user_name', 'item_name', 'rating']], reader)"
   ]
  },
  {
   "cell_type": "code",
   "execution_count": null,
   "id": "d9be819f",
   "metadata": {},
   "outputs": [],
   "source": [
    "# Metriche di errore cross validate\n",
    "\n",
    "cross_validation = cross_validate(algo, trainset, measures=[\"RMSE\",\"MSE\"], cv=5, verbose=True) "
   ]
  },
  {
   "cell_type": "code",
   "execution_count": 506,
   "id": "5572bdb4",
   "metadata": {},
   "outputs": [
    {
     "name": "stdout",
     "output_type": "stream",
     "text": [
      "        fold 1    fold 2    fold 3    fold 4    fold 5      mean\n",
      "MSE   0.403634  0.401453  0.403568  0.402413  0.404349  0.634888\n",
      "RMSE  0.635322  0.633604  0.635270  0.634360  0.635885  0.403084\n"
     ]
    }
   ],
   "source": [
    "data = {'fold 1': [cross_validation['test_mse'][0], cross_validation['test_rmse'][0]],\n",
    "        'fold 2': [cross_validation['test_mse'][1], cross_validation['test_rmse'][1]],\n",
    "        'fold 3': [cross_validation['test_mse'][2], cross_validation['test_rmse'][2]],\n",
    "        'fold 4': [cross_validation['test_mse'][3], cross_validation['test_rmse'][3]],\n",
    "        'fold 5': [cross_validation['test_mse'][4], cross_validation['test_rmse'][4]],\n",
    "        'mean': [np.mean(cross_validation['test_rmse']), \n",
    "                 np.mean(cross_validation['test_mse'])]}\n",
    "df = pd.DataFrame(data, index=['MSE', 'RMSE'])\n",
    "print(df)"
   ]
  },
  {
   "cell_type": "code",
   "execution_count": 55,
   "id": "daaa4244",
   "metadata": {},
   "outputs": [
    {
     "name": "stdout",
     "output_type": "stream",
     "text": [
      "Computing the cosine similarity matrix...\n",
      "Done computing similarity matrix.\n"
     ]
    },
    {
     "data": {
      "text/plain": [
       "<surprise.prediction_algorithms.knns.KNNBasic at 0x7f8a27b51430>"
      ]
     },
     "execution_count": 55,
     "metadata": {},
     "output_type": "execute_result"
    }
   ],
   "source": [
    "# Applichiamo l'algoritmo al dataset completo\n",
    "\n",
    "trainset = trainset.build_full_trainset()\n",
    "algo.fit(trainset)"
   ]
  },
  {
   "cell_type": "code",
   "execution_count": 77,
   "id": "b4777c83",
   "metadata": {},
   "outputs": [],
   "source": [
    "# Creazione della matrice sparsa\n",
    "\n",
    "incompleteMatrix = smallDf.pivot(index='user_name', columns='item_name', values='rating').fillna(0)\n",
    "completeMatrix = incompleteMatrix.copy()"
   ]
  },
  {
   "cell_type": "code",
   "execution_count": 472,
   "id": "33557f6e",
   "metadata": {},
   "outputs": [
    {
     "data": {
      "text/html": [
       "<div>\n",
       "<style scoped>\n",
       "    .dataframe tbody tr th:only-of-type {\n",
       "        vertical-align: middle;\n",
       "    }\n",
       "\n",
       "    .dataframe tbody tr th {\n",
       "        vertical-align: top;\n",
       "    }\n",
       "\n",
       "    .dataframe thead th {\n",
       "        text-align: right;\n",
       "    }\n",
       "</style>\n",
       "<table border=\"1\" class=\"dataframe\">\n",
       "  <thead>\n",
       "    <tr style=\"text-align: right;\">\n",
       "      <th>item_name</th>\n",
       "      <th>Cocoa Porter Winter Warmer</th>\n",
       "      <th>Coffee Bender</th>\n",
       "      <th>Coffee Porter</th>\n",
       "      <th>Coffee Stout</th>\n",
       "      <th>Coffee Stout (Brewmaster Series)</th>\n",
       "    </tr>\n",
       "    <tr>\n",
       "      <th>user_name</th>\n",
       "      <th></th>\n",
       "      <th></th>\n",
       "      <th></th>\n",
       "      <th></th>\n",
       "      <th></th>\n",
       "    </tr>\n",
       "  </thead>\n",
       "  <tbody>\n",
       "    <tr>\n",
       "      <th>morebeergood</th>\n",
       "      <td>0.0</td>\n",
       "      <td>0.0</td>\n",
       "      <td>3.0</td>\n",
       "      <td>0.0</td>\n",
       "      <td>3.0</td>\n",
       "    </tr>\n",
       "    <tr>\n",
       "      <th>morimech</th>\n",
       "      <td>0.0</td>\n",
       "      <td>3.0</td>\n",
       "      <td>0.0</td>\n",
       "      <td>0.0</td>\n",
       "      <td>4.0</td>\n",
       "    </tr>\n",
       "    <tr>\n",
       "      <th>mortarit</th>\n",
       "      <td>0.0</td>\n",
       "      <td>0.0</td>\n",
       "      <td>4.0</td>\n",
       "      <td>0.0</td>\n",
       "      <td>0.0</td>\n",
       "    </tr>\n",
       "    <tr>\n",
       "      <th>mostpoetsdo</th>\n",
       "      <td>0.0</td>\n",
       "      <td>0.0</td>\n",
       "      <td>0.0</td>\n",
       "      <td>0.0</td>\n",
       "      <td>0.0</td>\n",
       "    </tr>\n",
       "    <tr>\n",
       "      <th>mothman</th>\n",
       "      <td>0.0</td>\n",
       "      <td>4.0</td>\n",
       "      <td>0.0</td>\n",
       "      <td>4.0</td>\n",
       "      <td>0.0</td>\n",
       "    </tr>\n",
       "  </tbody>\n",
       "</table>\n",
       "</div>"
      ],
      "text/plain": [
       "item_name     Cocoa Porter Winter Warmer  Coffee Bender  Coffee Porter  \\\n",
       "user_name                                                                \n",
       "morebeergood                         0.0            0.0            3.0   \n",
       "morimech                             0.0            3.0            0.0   \n",
       "mortarit                             0.0            0.0            4.0   \n",
       "mostpoetsdo                          0.0            0.0            0.0   \n",
       "mothman                              0.0            4.0            0.0   \n",
       "\n",
       "item_name     Coffee Stout  Coffee Stout (Brewmaster Series)  \n",
       "user_name                                                     \n",
       "morebeergood           0.0                               3.0  \n",
       "morimech               0.0                               4.0  \n",
       "mortarit               0.0                               0.0  \n",
       "mostpoetsdo            0.0                               0.0  \n",
       "mothman                4.0                               0.0  "
      ]
     },
     "execution_count": 472,
     "metadata": {},
     "output_type": "execute_result"
    }
   ],
   "source": [
    "x = random.randint(0,3994)\n",
    "y = random.randint(0,3994)\n",
    "\n",
    "incompleteMatrix.iloc[x:x+5,y:y+5]"
   ]
  },
  {
   "cell_type": "code",
   "execution_count": null,
   "id": "18d0793e",
   "metadata": {},
   "outputs": [],
   "source": [
    "# Filling della matrice\n",
    "\n",
    "for rig in completeMatrix.index:\n",
    "    for col in completeMatrix.columns:\n",
    "        if completeMatrix.loc[rig,col] == 0.0:\n",
    "            completeMatrix.loc[rig,col] = round(algo.predict(rig, col).est, 2) "
   ]
  },
  {
   "cell_type": "code",
   "execution_count": 473,
   "id": "e01f45d8",
   "metadata": {},
   "outputs": [
    {
     "data": {
      "text/html": [
       "<div>\n",
       "<style scoped>\n",
       "    .dataframe tbody tr th:only-of-type {\n",
       "        vertical-align: middle;\n",
       "    }\n",
       "\n",
       "    .dataframe tbody tr th {\n",
       "        vertical-align: top;\n",
       "    }\n",
       "\n",
       "    .dataframe thead th {\n",
       "        text-align: right;\n",
       "    }\n",
       "</style>\n",
       "<table border=\"1\" class=\"dataframe\">\n",
       "  <thead>\n",
       "    <tr style=\"text-align: right;\">\n",
       "      <th>item_name</th>\n",
       "      <th>Cocoa Porter Winter Warmer</th>\n",
       "      <th>Coffee Bender</th>\n",
       "      <th>Coffee Porter</th>\n",
       "      <th>Coffee Stout</th>\n",
       "      <th>Coffee Stout (Brewmaster Series)</th>\n",
       "    </tr>\n",
       "    <tr>\n",
       "      <th>user_name</th>\n",
       "      <th></th>\n",
       "      <th></th>\n",
       "      <th></th>\n",
       "      <th></th>\n",
       "      <th></th>\n",
       "    </tr>\n",
       "  </thead>\n",
       "  <tbody>\n",
       "    <tr>\n",
       "      <th>morebeergood</th>\n",
       "      <td>2.99</td>\n",
       "      <td>3.92</td>\n",
       "      <td>3.00</td>\n",
       "      <td>3.80</td>\n",
       "      <td>3.00</td>\n",
       "    </tr>\n",
       "    <tr>\n",
       "      <th>morimech</th>\n",
       "      <td>2.96</td>\n",
       "      <td>3.00</td>\n",
       "      <td>3.58</td>\n",
       "      <td>3.78</td>\n",
       "      <td>4.00</td>\n",
       "    </tr>\n",
       "    <tr>\n",
       "      <th>mortarit</th>\n",
       "      <td>2.94</td>\n",
       "      <td>3.98</td>\n",
       "      <td>4.00</td>\n",
       "      <td>3.72</td>\n",
       "      <td>3.79</td>\n",
       "    </tr>\n",
       "    <tr>\n",
       "      <th>mostpoetsdo</th>\n",
       "      <td>2.89</td>\n",
       "      <td>3.89</td>\n",
       "      <td>3.62</td>\n",
       "      <td>3.76</td>\n",
       "      <td>3.83</td>\n",
       "    </tr>\n",
       "    <tr>\n",
       "      <th>mothman</th>\n",
       "      <td>2.95</td>\n",
       "      <td>4.00</td>\n",
       "      <td>3.59</td>\n",
       "      <td>4.00</td>\n",
       "      <td>3.83</td>\n",
       "    </tr>\n",
       "  </tbody>\n",
       "</table>\n",
       "</div>"
      ],
      "text/plain": [
       "item_name     Cocoa Porter Winter Warmer  Coffee Bender  Coffee Porter  \\\n",
       "user_name                                                                \n",
       "morebeergood                        2.99           3.92           3.00   \n",
       "morimech                            2.96           3.00           3.58   \n",
       "mortarit                            2.94           3.98           4.00   \n",
       "mostpoetsdo                         2.89           3.89           3.62   \n",
       "mothman                             2.95           4.00           3.59   \n",
       "\n",
       "item_name     Coffee Stout  Coffee Stout (Brewmaster Series)  \n",
       "user_name                                                     \n",
       "morebeergood          3.80                              3.00  \n",
       "morimech              3.78                              4.00  \n",
       "mortarit              3.72                              3.79  \n",
       "mostpoetsdo           3.76                              3.83  \n",
       "mothman               4.00                              3.83  "
      ]
     },
     "execution_count": 473,
     "metadata": {},
     "output_type": "execute_result"
    }
   ],
   "source": [
    "completeMatrix.iloc[x:x+5,y:y+5]"
   ]
  },
  {
   "cell_type": "markdown",
   "id": "29a00f34",
   "metadata": {},
   "source": [
    "## 1.4 Clustering k-means"
   ]
  },
  {
   "cell_type": "code",
   "execution_count": 589,
   "id": "35527d56",
   "metadata": {},
   "outputs": [],
   "source": [
    "# Clustering k-means, scelta n° clusters\n",
    "\n",
    "matrix = incompleteMatrix.to_numpy()\n",
    "\n",
    "wcss = []\n",
    "for i in range(1, 15):\n",
    "    km = KMeans(n_clusters = i, init = 'k-means++', max_iter = 300, n_init = 10, random_state = 0) \n",
    "    km.fit(matrix)\n",
    "    wcss.append(km.inertia_)"
   ]
  },
  {
   "cell_type": "code",
   "execution_count": 590,
   "id": "0ab56159",
   "metadata": {},
   "outputs": [
    {
     "data": {
      "image/png": "[encoded data removed]",
      "text/plain": [
       "<Figure size 432x288 with 1 Axes>"
      ]
     },
     "metadata": {
      "needs_background": "light"
     },
     "output_type": "display_data"
    }
   ],
   "source": [
    "plt.plot(range(1, 15), wcss, color='sandybrown')\n",
    "plt.title('The Elbow Method', fontsize = 20) \n",
    "plt.xlabel('No. of Clusters') \n",
    "plt.ylabel('wcss')\n",
    "plt.axvline(x=4,linewidth=1, color='red', ymin=0, ymax=0.3, linestyle='--')\n",
    "plt.show()"
   ]
  },
  {
   "cell_type": "code",
   "execution_count": 131,
   "id": "811449e6",
   "metadata": {},
   "outputs": [
    {
     "data": {
      "text/plain": [
       "array([1, 1, 1, ..., 1, 1, 1], dtype=int32)"
      ]
     },
     "execution_count": 131,
     "metadata": {},
     "output_type": "execute_result"
    }
   ],
   "source": [
    "# Clustering \n",
    "\n",
    "nClusters = 4\n",
    "kn = KMeans(n_clusters = nClusters , init ='k-means++' , max_iter = 300 , n_init =10 , random_state = 0)\n",
    "\n",
    "y_means = kn.fit_predict(matrix)\n",
    "y_means"
   ]
  },
  {
   "cell_type": "code",
   "execution_count": 132,
   "id": "caeb074b",
   "metadata": {},
   "outputs": [],
   "source": [
    "kMeansClusterer = KMeansClusterer(nClusters, distance = cosine_distance)\n",
    "\n",
    "clusters = kMeansClusterer.cluster(matrix, assign_clusters=True)\n",
    "users_clusters=dict(zip(completeMatrix.index, clusters))"
   ]
  },
  {
   "cell_type": "code",
   "execution_count": 133,
   "id": "8105991f",
   "metadata": {},
   "outputs": [
    {
     "name": "stdout",
     "output_type": "stream",
     "text": [
      "Cluster 1: 770 utenti\n",
      "Cluster 2: 1197 utenti\n",
      "Cluster 3: 1002 utenti\n",
      "Cluster 4: 1031 utenti\n"
     ]
    }
   ],
   "source": [
    "users_per_cluster = []\n",
    "\n",
    "for i in range(nClusters):\n",
    "    users_per_cluster.append(len([x for x in users_clusters.values() if x ==i]))\n",
    "    print(f'Cluster {i+1}: {users_per_cluster[i]} utenti')"
   ]
  },
  {
   "cell_type": "code",
   "execution_count": 134,
   "id": "6d9dfa1d",
   "metadata": {},
   "outputs": [
    {
     "data": {
      "text/plain": [
       "-0.030195378351821987"
      ]
     },
     "execution_count": 134,
     "metadata": {},
     "output_type": "execute_result"
    }
   ],
   "source": [
    "silhouette_avg = silhouette_score(matrix, clusters)\n",
    "silhouette_avg"
   ]
  },
  {
   "cell_type": "markdown",
   "id": "1c63fa65",
   "metadata": {},
   "source": [
    "## 1.5 Creazione lista di items da consigliare a ciascun utente"
   ]
  },
  {
   "cell_type": "code",
   "execution_count": null,
   "id": "f77ab368",
   "metadata": {},
   "outputs": [],
   "source": [
    "# Creazione lista di items da consigliare a ciascun utente\n",
    "\n",
    "reversedMatrix = completeMatrix    #matrice completa senza i rating reali per non suggerire gli items già votati\n",
    "for x in reversedMatrix.index:\n",
    "    for y in reversedMatrix.columns:\n",
    "        if incompleteMatrix.loc[x,y]!=0.0:\n",
    "            reversedMatrix.loc[x,y]=0.0"
   ]
  },
  {
   "cell_type": "code",
   "execution_count": 557,
   "id": "8d085ff6",
   "metadata": {},
   "outputs": [],
   "source": [
    "def recommender(user_name, n=5, details = False):\n",
    "    if not details:\n",
    "        suggested_items = list(reversedMatrix.loc[user_name].sort_values(ascending=False)[:n].index)\n",
    "    else:\n",
    "        suggested_items = pd.DataFrame(reversedMatrix.loc[user_name].sort_values(ascending=False)[:n])\n",
    "    return(suggested_items)"
   ]
  },
  {
   "cell_type": "code",
   "execution_count": 28,
   "id": "30b267b9",
   "metadata": {},
   "outputs": [
    {
     "name": "stdout",
     "output_type": "stream",
     "text": [
      "['Cantillon Blåbær Lambik', 'Pliny The Elder', 'Geuze Cuvée J&J (Joost En Jessie) Blauw (Blue)', 'Citra DIPA', 'Veritas 004']\n",
      "                                                d0ggnate\n",
      "item_name                                               \n",
      "Cantillon Blåbær Lambik                             4.46\n",
      "Pliny The Elder                                     4.45\n",
      "Geuze Cuvée J&J (Joost En Jessie) Blauw (Blue)      4.41\n"
     ]
    }
   ],
   "source": [
    "print(recommender('d0ggnate'))                # you can either type just the user for a list of 5 recommendations\n",
    "print(recommender('d0ggnate', 3, True))       # or manually set n° of recommendations and detail True"
   ]
  },
  {
   "cell_type": "code",
   "execution_count": null,
   "id": "c461e762",
   "metadata": {},
   "outputs": [],
   "source": [
    "suggestions = {}\n",
    "for user in uniqueUs:\n",
    "    suggestions[user] = recommender(user, 5)"
   ]
  },
  {
   "cell_type": "markdown",
   "id": "11c3edfa",
   "metadata": {},
   "source": [
    "## 1.6 Matrix factorization, ricerca iperparametri ottimali e filling matrice"
   ]
  },
  {
   "cell_type": "code",
   "execution_count": null,
   "id": "992b92d4",
   "metadata": {},
   "outputs": [],
   "source": [
    "# Matrix factorization, ricerca iperparametri ottimali e filling matrice\n",
    "\n",
    "gridsetterSVD= Dataset.load_from_df(smallDf.sample(frac=0.2)[['user_name', 'item_name', 'rating']], reader)\n",
    "\n",
    "param_grid_SVD = {'n_factors': [5, 10, 20],'n_epochs': [20, 30, 40],\n",
    "                  'lr_all': [0.003, 0.005, 0.007],'reg_all': [0.06, 0.07, 0.08]}\n",
    "\n",
    "\n",
    "gsSVD = GridSearchCV(SVD, param_grid_SVD, measures=['rmse', 'mse'], cv=5, n_jobs=-1)   \n",
    "gsSVD.fit(gridsetterSVD)"
   ]
  },
  {
   "cell_type": "code",
   "execution_count": 503,
   "id": "8791195e",
   "metadata": {},
   "outputs": [
    {
     "name": "stdout",
     "output_type": "stream",
     "text": [
      "Best RMSE = 0.6258\n",
      "Best MSE = 0.3916\n",
      "Best MSE configuration = {'n_factors': 5, 'n_epochs': 40, 'lr_all': 0.003, 'reg_all': 0.08}\n"
     ]
    }
   ],
   "source": [
    "print(f'Best RMSE = {gsSVD.best_score[\"rmse\"]:.4f}')\n",
    "print(f'Best MSE = {gsSVD.best_score[\"mse\"]:.4f}')\n",
    "print(f'Best MSE configuration = {gsSVD.best_params[\"mse\"]}')"
   ]
  },
  {
   "cell_type": "code",
   "execution_count": null,
   "id": "ab72edf8",
   "metadata": {},
   "outputs": [],
   "source": [
    "# Fit algoritmo con iperparametri ottimali\n",
    "\n",
    "algoSVD = SVD(n_factors = gsSVD.best_params['rmse']['n_factors'], \n",
    "              n_epochs = gsSVD.best_params['rmse']['n_epochs'],\n",
    "              lr_all = gsSVD.best_params['rmse']['lr_all'],\n",
    "              reg_all = gsSVD.best_params['rmse']['reg_all'],\n",
    "              verbose=True)\n",
    "\n",
    "trainset = Dataset.load_from_df(smallDf[['user_name', 'item_name', 'rating']], reader)"
   ]
  },
  {
   "cell_type": "code",
   "execution_count": null,
   "id": "166ea50e",
   "metadata": {},
   "outputs": [],
   "source": [
    "# Metriche di errore cross validate\n",
    "\n",
    "cross_validationSVD = cross_validate(algoSVD, trainset, measures=[\"RMSE\",\"MSE\"], cv=5, verbose=True) "
   ]
  },
  {
   "cell_type": "code",
   "execution_count": 505,
   "id": "625ed3ce",
   "metadata": {},
   "outputs": [
    {
     "name": "stdout",
     "output_type": "stream",
     "text": [
      "        fold 1    fold 2    fold 3    fold 4    fold 5      mean\n",
      "MSE   0.378971  0.381560  0.378956  0.378243  0.379704  0.616024\n",
      "RMSE  0.615607  0.617706  0.615594  0.615014  0.616201  0.379487\n"
     ]
    }
   ],
   "source": [
    "data = {'fold 1': [cross_validationSVD['test_mse'][0], cross_validationSVD['test_rmse'][0]],\n",
    "        'fold 2': [cross_validationSVD['test_mse'][1], cross_validationSVD['test_rmse'][1]],\n",
    "        'fold 3': [cross_validationSVD['test_mse'][2], cross_validationSVD['test_rmse'][2]],\n",
    "        'fold 4': [cross_validationSVD['test_mse'][3], cross_validationSVD['test_rmse'][3]],\n",
    "        'fold 5': [cross_validationSVD['test_mse'][4], cross_validationSVD['test_rmse'][4]],\n",
    "        'mean': [np.mean(cross_validationSVD['test_rmse']), \n",
    "                 np.mean(cross_validationSVD['test_mse'])]}\n",
    "df = pd.DataFrame(data, index=['MSE', 'RMSE'])\n",
    "print(df)"
   ]
  },
  {
   "cell_type": "code",
   "execution_count": null,
   "id": "ded0dce0",
   "metadata": {},
   "outputs": [],
   "source": [
    "# Applichiamo l'algoritmo al dataset completo\n",
    "\n",
    "trainset = trainset.build_full_trainset()\n",
    "algoSVD.fit(trainset)"
   ]
  },
  {
   "cell_type": "code",
   "execution_count": null,
   "id": "f11a9606",
   "metadata": {},
   "outputs": [],
   "source": [
    "completeMatrixSVD = smallDf.pivot(index='user_name', columns='item_name', values='rating').fillna(0)\n",
    "\n",
    "for rig in completeMatrixSVD.index:\n",
    "    for col in completeMatrixSVD.columns:\n",
    "        if completeMatrixSVD.loc[rig,col] == 0.0:\n",
    "            completeMatrixSVD.loc[rig,col] = round(algoSVD.predict(rig, col).est, 2)   "
   ]
  },
  {
   "cell_type": "code",
   "execution_count": 507,
   "id": "74d93740",
   "metadata": {},
   "outputs": [
    {
     "data": {
      "text/html": [
       "<div>\n",
       "<style scoped>\n",
       "    .dataframe tbody tr th:only-of-type {\n",
       "        vertical-align: middle;\n",
       "    }\n",
       "\n",
       "    .dataframe tbody tr th {\n",
       "        vertical-align: top;\n",
       "    }\n",
       "\n",
       "    .dataframe thead th {\n",
       "        text-align: right;\n",
       "    }\n",
       "</style>\n",
       "<table border=\"1\" class=\"dataframe\">\n",
       "  <thead>\n",
       "    <tr style=\"text-align: right;\">\n",
       "      <th>item_name</th>\n",
       "      <th>Cocoa Porter Winter Warmer</th>\n",
       "      <th>Coffee Bender</th>\n",
       "      <th>Coffee Porter</th>\n",
       "      <th>Coffee Stout</th>\n",
       "      <th>Coffee Stout (Brewmaster Series)</th>\n",
       "    </tr>\n",
       "    <tr>\n",
       "      <th>user_name</th>\n",
       "      <th></th>\n",
       "      <th></th>\n",
       "      <th></th>\n",
       "      <th></th>\n",
       "      <th></th>\n",
       "    </tr>\n",
       "  </thead>\n",
       "  <tbody>\n",
       "    <tr>\n",
       "      <th>morebeergood</th>\n",
       "      <td>2.83</td>\n",
       "      <td>3.74</td>\n",
       "      <td>3.00</td>\n",
       "      <td>3.52</td>\n",
       "      <td>3.00</td>\n",
       "    </tr>\n",
       "    <tr>\n",
       "      <th>morimech</th>\n",
       "      <td>2.98</td>\n",
       "      <td>3.00</td>\n",
       "      <td>3.51</td>\n",
       "      <td>3.68</td>\n",
       "      <td>4.00</td>\n",
       "    </tr>\n",
       "    <tr>\n",
       "      <th>mortarit</th>\n",
       "      <td>2.71</td>\n",
       "      <td>3.63</td>\n",
       "      <td>4.00</td>\n",
       "      <td>3.41</td>\n",
       "      <td>3.43</td>\n",
       "    </tr>\n",
       "    <tr>\n",
       "      <th>mostpoetsdo</th>\n",
       "      <td>3.06</td>\n",
       "      <td>3.96</td>\n",
       "      <td>3.58</td>\n",
       "      <td>3.75</td>\n",
       "      <td>3.77</td>\n",
       "    </tr>\n",
       "    <tr>\n",
       "      <th>mothman</th>\n",
       "      <td>2.79</td>\n",
       "      <td>4.00</td>\n",
       "      <td>3.31</td>\n",
       "      <td>4.00</td>\n",
       "      <td>3.50</td>\n",
       "    </tr>\n",
       "  </tbody>\n",
       "</table>\n",
       "</div>"
      ],
      "text/plain": [
       "item_name     Cocoa Porter Winter Warmer  Coffee Bender  Coffee Porter  \\\n",
       "user_name                                                                \n",
       "morebeergood                        2.83           3.74           3.00   \n",
       "morimech                            2.98           3.00           3.51   \n",
       "mortarit                            2.71           3.63           4.00   \n",
       "mostpoetsdo                         3.06           3.96           3.58   \n",
       "mothman                             2.79           4.00           3.31   \n",
       "\n",
       "item_name     Coffee Stout  Coffee Stout (Brewmaster Series)  \n",
       "user_name                                                     \n",
       "morebeergood          3.52                              3.00  \n",
       "morimech              3.68                              4.00  \n",
       "mortarit              3.41                              3.43  \n",
       "mostpoetsdo           3.75                              3.77  \n",
       "mothman               4.00                              3.50  "
      ]
     },
     "execution_count": 507,
     "metadata": {},
     "output_type": "execute_result"
    }
   ],
   "source": [
    "completeMatrixSVD.iloc[x:x+5,y:y+5]"
   ]
  },
  {
   "cell_type": "code",
   "execution_count": 30,
   "id": "345e5aed",
   "metadata": {},
   "outputs": [
    {
     "name": "stdout",
     "output_type": "stream",
     "text": [
      "Cross validated RMSE obtained with KNN algorithm = 0.6348880782371433\n",
      "Cross validated RMSE obtained with SVD algorithm = 0.6160242070225597\n",
      "---------------------------------------------------------------------\n",
      "Cross validated MSE obtained with KNN algorithm = 0.4030835230537315\n",
      "Cross validated MSE obtained with SVD algorithm = 0.3794866713224371\n"
     ]
    }
   ],
   "source": [
    "print(f'Cross validated RMSE obtained with KNN algorithm = {cross_validation[\"test_rmse\"].mean()}')\n",
    "print(f'Cross validated RMSE obtained with SVD algorithm = {cross_validationSVD[\"test_rmse\"].mean()}')\n",
    "print('---------------------------------------------------------------------')\n",
    "print(f'Cross validated MSE obtained with KNN algorithm = {cross_validation[\"test_mse\"].mean()}')\n",
    "print(f'Cross validated MSE obtained with SVD algorithm = {cross_validationSVD[\"test_mse\"].mean()}')"
   ]
  },
  {
   "cell_type": "code",
   "execution_count": null,
   "id": "771ae993",
   "metadata": {},
   "outputs": [],
   "source": [
    "# Creazione lista di items da consigliare a ciascun utente (secondo SVD)\n",
    "\n",
    "reversedMatrixSVD = completeMatrixSVD    \n",
    "for x in reversedMatrixSVD.index:\n",
    "    for y in reversedMatrixSVD.columns:\n",
    "        if incompleteMatrix.loc[x,y]!=0.0:\n",
    "            reversedMatrixSVD.loc[x,y]=0.0"
   ]
  },
  {
   "cell_type": "code",
   "execution_count": 558,
   "id": "121d017b",
   "metadata": {},
   "outputs": [],
   "source": [
    "def recommenderSVD(user_name, n=5, details = False):\n",
    "    if not details:\n",
    "        suggested_items = list(reversedMatrixSVD.loc[user_name].sort_values(ascending=False)[:n].index)\n",
    "    else:\n",
    "        suggested_items = pd.DataFrame(reversedMatrixSVD.loc[user_name].sort_values(ascending=False)[:n])\n",
    "    return(suggested_items)"
   ]
  },
  {
   "cell_type": "code",
   "execution_count": null,
   "id": "7717c7c6",
   "metadata": {},
   "outputs": [],
   "source": [
    "suggestionsSVD = {}\n",
    "for user in uniqueUs:\n",
    "    suggestionsSVD[user] = recommenderSVD(user, 10)"
   ]
  },
  {
   "cell_type": "code",
   "execution_count": 587,
   "id": "e7246c52",
   "metadata": {
    "scrolled": false
   },
   "outputs": [
    {
     "name": "stdout",
     "output_type": "stream",
     "text": [
      "KNN recommender: \n",
      "                                                AgentMunky\n",
      "item_name                                                 \n",
      "Cantillon Blåbær Lambik                               4.46\n",
      "Geuze Cuvée J&J (Joost En Jessie) Blauw (Blue)        4.41\n",
      "Veritas 004                                           4.39\n",
      "Pliny The Younger                                     4.39\n",
      "Live Oak HefeWeizen                                   4.38\n",
      "Deviation - Bottleworks 9th Anniversary               4.38\n",
      "Kaggen! Stormaktsporter                               4.38\n",
      "Founders CBS Imperial Stout                           4.36\n",
      "Heady Topper                                          4.36\n",
      "Citra DIPA                                            4.36\n",
      "\n",
      "SVD recommender: \n",
      "                                                AgentMunky\n",
      "item_name                                                 \n",
      "Geuze Cuvée J&J (Joost En Jessie) Blauw (Blue)        4.45\n",
      "Cantillon Blåbær Lambik                               4.43\n",
      "Veritas 004                                           4.39\n",
      "Deviation - Bottleworks 9th Anniversary               4.37\n",
      "Kaggen! Stormaktsporter                               4.36\n",
      "Citra DIPA                                            4.35\n",
      "Heady Topper                                          4.34\n",
      "Pliny The Younger                                     4.33\n",
      "Live Oak HefeWeizen                                   4.32\n",
      "Maple Bacon Coffee Porter                             4.31\n",
      "----------------------------\n",
      "KNN recommender: \n",
      "                                                sarahspat\n",
      "item_name                                                \n",
      "Cantillon Blåbær Lambik                              4.45\n",
      "Geuze Cuvée J&J (Joost En Jessie) Blauw (Blue)       4.41\n",
      "Veritas 004                                          4.38\n",
      "Deviation - Bottleworks 9th Anniversary              4.38\n",
      "Kaggen! Stormaktsporter                              4.37\n",
      "Portsmouth Kate The Great                            4.37\n",
      "Pliny The Younger                                    4.36\n",
      "Heady Topper                                         4.35\n",
      "Trappist Westvleteren 12                             4.35\n",
      "Reality Czeck                                        4.34\n",
      "\n",
      "SVD recommender: \n",
      "                                                sarahspat\n",
      "item_name                                                \n",
      "Cantillon Blåbær Lambik                              4.41\n",
      "Geuze Cuvée J&J (Joost En Jessie) Blauw (Blue)       4.41\n",
      "Veritas 004                                          4.36\n",
      "Kaggen! Stormaktsporter                              4.34\n",
      "Deviation - Bottleworks 9th Anniversary              4.33\n",
      "Citra DIPA                                           4.31\n",
      "Heady Topper                                         4.31\n",
      "Pliny The Younger                                    4.29\n",
      "Live Oak HefeWeizen                                  4.29\n",
      "Reality Czeck                                        4.28\n"
     ]
    }
   ],
   "source": [
    "# Esempio sulle differenti raccomandazioni\n",
    "\n",
    "print(f'''KNN recommender: \n",
    "{recommender('AgentMunky', 10, True)}''')\n",
    "print(f'''\n",
    "SVD recommender: \n",
    "{recommenderSVD('AgentMunky', 10, True)}''')\n",
    "print('----------------------------')\n",
    "print(f'''KNN recommender: \n",
    "{recommender('sarahspat', 10, True)}''')\n",
    "print(f'''\n",
    "SVD recommender: \n",
    "{recommenderSVD('sarahspat', 10, True)}''')"
   ]
  }
 ],
 "metadata": {
  "kernelspec": {
   "display_name": "Python 3 (ipykernel)",
   "language": "python",
   "name": "python3"
  },
  "language_info": {
   "codemirror_mode": {
    "name": "ipython",
    "version": 3
   },
   "file_extension": ".py",
   "mimetype": "text/x-python",
   "name": "python",
   "nbconvert_exporter": "python",
   "pygments_lexer": "ipython3",
   "version": "3.9.7"
  }
 },
 "nbformat": 4,
 "nbformat_minor": 5
}
